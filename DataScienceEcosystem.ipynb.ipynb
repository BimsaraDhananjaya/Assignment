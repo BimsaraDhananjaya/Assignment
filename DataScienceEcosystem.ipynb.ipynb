{
 "cells": [
  {
   "cell_type": "code",
   "execution_count": null,
   "id": "a8c6f1e4-9256-4d38-a06f-7b5fc15e963e",
   "metadata": {},
   "outputs": [],
   "source": [
    "# Data Science Tools and Ecosystem"
   ]
  },
  {
   "cell_type": "code",
   "execution_count": null,
   "id": "e4b1237e-9d6b-480e-a5f1-4052bea947c0",
   "metadata": {},
   "outputs": [],
   "source": [
    "# In this notebook, Data Science Tools and Ecosystem are summarized."
   ]
  },
  {
   "cell_type": "code",
   "execution_count": null,
   "id": "e0cdf976-9d50-4d1e-a8fb-c887854c0849",
   "metadata": {},
   "outputs": [],
   "source": [
    "# Some of the popular languages that Data Scientists use are:\n",
    "\n",
    "1. **Python**\n",
    "   - Widely used for data analysis, machine learning, and artificial intelligence.\n",
    "   - Rich ecosystem with libraries like NumPy, Pandas, and Scikit-Learn.\n",
    "\n",
    "2. **R**\n",
    "   - Popular for statistical analysis and visualization.\n",
    "   - Has a strong community and extensive packages for statistical modeling.\n",
    "\n",
    "3. **SQL**\n",
    "   - Essential for working with relational databases.\n",
    "   - Used to extract, transform, and load (ETL) data for analysis.\n",
    "\n",
    "4. **Julia**\n",
    "   - Emerging language for numerical and scientific computing.\n",
    "   - Known for its speed and efficiency in data manipulation and analysis.\n",
    "\n",
    "5. **Scala**\n",
    "   - Commonly used with Apache Spark for big data processing.\n",
    "   - Combines functional and object-oriented programming paradigms.\n",
    "\n",
    "6. **JavaScript (with D3.js)**\n",
    "   - Used for creating interactive data visualizations in web applications.\n",
    "   - D3.js is a powerful library for creating dynamic and interactive charts.\n"
   ]
  },
  {
   "cell_type": "code",
   "execution_count": null,
   "id": "b771bdb1-24c0-4216-80b9-7a8e5301ea7d",
   "metadata": {},
   "outputs": [],
   "source": [
    "# Some of the commonly used libraries used by Data Scientists include:\n",
    "\n",
    "1. **NumPy**\n",
    "   - Foundation for numerical computing in Python.\n",
    "   - Provides support for large, multi-dimensional arrays and matrices.\n",
    "\n",
    "2. **Pandas**\n",
    "   - Data manipulation and analysis library.\n",
    "   - Offers data structures like DataFrames for efficient data handling.\n",
    "\n",
    "3. **Scikit-Learn**\n",
    "   - Simple and efficient tools for data mining and data analysis.\n",
    "   - Provides machine learning algorithms and model evaluation tools.\n",
    "\n",
    "4. **Matplotlib**\n",
    "   - 2D plotting library for creating static, animated, and interactive visualizations.\n",
    "   - Essential for data exploration and presentation.\n",
    "\n",
    "5. **Seaborn**\n",
    "   - Data visualization library based on Matplotlib.\n",
    "   - Simplifies the creation of statistical graphics and enhances aesthetics.\n",
    "\n",
    "6. **TensorFlow**\n",
    "   - Open-source machine learning framework developed by Google.\n",
    "   - Widely used for building and training deep learning models.\n",
    "\n",
    "7. **PyTorch**\n",
    "   - Deep learning library with dynamic computational graphs.\n",
    "   - Gaining popularity for its flexibility and ease of use.\n",
    "\n",
    "These libraries form the backbone of many data science workflows, providing essential tools for data manipulation, analysis, visualization, and machine learning.\n"
   ]
  },
  {
   "cell_type": "code",
   "execution_count": null,
   "id": "e206e5be-a3c0-4990-b6ff-9acb1b2a412f",
   "metadata": {},
   "outputs": [],
   "source": [
    "# Data Science Tools\n",
    "\n",
    "| Development Environment Tools |\n",
    "| ----------------------------- |\n",
    "| **Jupyter Notebook**          |\n",
    "| **RStudio**                   |\n",
    "| **VS Code with Python**       |\n"
   ]
  },
  {
   "cell_type": "code",
   "execution_count": null,
   "id": "a08f7733-c3b1-4f46-896f-febd7a5f2f53",
   "metadata": {},
   "outputs": [],
   "source": [
    "### Examples of Evaluating Arithmetic Expressions in Python\n",
    "\n",
    "Below are a few examples of evaluating arithmetic expressions in Python.\n"
   ]
  },
  {
   "cell_type": "code",
   "execution_count": 1,
   "id": "f43e5c38-f24a-421a-8376-9af51f2e3d2c",
   "metadata": {
    "tags": []
   },
   "outputs": [
    {
     "data": {
      "text/plain": [
       "17"
      ]
     },
     "execution_count": 1,
     "metadata": {},
     "output_type": "execute_result"
    }
   ],
   "source": [
    "# This is a simple arithmetic expression to multiply then add integers.\n",
    "result = (3 * 4) + 5\n",
    "result\n",
    "\n"
   ]
  },
  {
   "cell_type": "code",
   "execution_count": 2,
   "id": "80125c30-11ab-4c72-8c53-bb7ceeceb04f",
   "metadata": {
    "tags": []
   },
   "outputs": [
    {
     "data": {
      "text/plain": [
       "3.3333333333333335"
      ]
     },
     "execution_count": 2,
     "metadata": {},
     "output_type": "execute_result"
    }
   ],
   "source": [
    "# This will convert 200 minutes to hours by dividing by 60.\n",
    "minutes = 200\n",
    "hours = minutes / 60\n",
    "hours\n"
   ]
  },
  {
   "cell_type": "code",
   "execution_count": null,
   "id": "7ae9d403-5d71-4aa8-a8b6-9d5b7ac52bf2",
   "metadata": {},
   "outputs": [],
   "source": [
    "**Objectives:**\n",
    "- List popular languages for Data Science.\n",
    "- Introduce common libraries used in Data Science.\n",
    "- Showcase popular open-source tools for Data Science development.\n",
    "- Provide examples of arithmetic expressions in Python.\n",
    "- Demonstrate the conversion of minutes to hours using Python.\n"
   ]
  },
  {
   "cell_type": "code",
   "execution_count": null,
   "id": "a951f260-bdf9-4c67-8182-38fdb221c002",
   "metadata": {},
   "outputs": [],
   "source": [
    "## Author\n",
    "Bimsara\n"
   ]
  }
 ],
 "metadata": {
  "kernelspec": {
   "display_name": "Python",
   "language": "python",
   "name": "conda-env-python-py"
  },
  "language_info": {
   "codemirror_mode": {
    "name": "ipython",
    "version": 3
   },
   "file_extension": ".py",
   "mimetype": "text/x-python",
   "name": "python",
   "nbconvert_exporter": "python",
   "pygments_lexer": "ipython3",
   "version": "3.7.12"
  }
 },
 "nbformat": 4,
 "nbformat_minor": 5
}
